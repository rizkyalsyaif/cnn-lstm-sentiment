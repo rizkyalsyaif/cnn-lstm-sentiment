{
  "nbformat": 4,
  "nbformat_minor": 0,
  "metadata": {
    "colab": {
      "provenance": []
    },
    "kernelspec": {
      "name": "python3",
      "display_name": "Python 3"
    },
    "language_info": {
      "name": "python"
    }
  },
  "cells": [
    {
      "cell_type": "markdown",
      "source": [
        "Install Library yang dibutuhkan"
      ],
      "metadata": {
        "id": "oEncU55fa4pg"
      }
    },
    {
      "cell_type": "code",
      "execution_count": null,
      "metadata": {
        "colab": {
          "base_uri": "https://localhost:8080/"
        },
        "id": "o1L2RYHcfqFD",
        "outputId": "f78eadc0-a200-4e09-c5c9-d36c4256713b"
      },
      "outputs": [
        {
          "output_type": "stream",
          "name": "stdout",
          "text": [
            "Looking in indexes: https://pypi.org/simple, https://us-python.pkg.dev/colab-wheels/public/simple/\n",
            "Collecting sastrawi\n",
            "  Downloading Sastrawi-1.0.1-py2.py3-none-any.whl (209 kB)\n",
            "\u001b[K     |████████████████████████████████| 209 kB 5.0 MB/s \n",
            "\u001b[?25hInstalling collected packages: sastrawi\n",
            "Successfully installed sastrawi-1.0.1\n"
          ]
        }
      ],
      "source": [
        "!pip install sastrawi"
      ]
    },
    {
      "cell_type": "code",
      "source": [
        "import re\n",
        "import numpy as np\n",
        "import tensorflow as tf\n",
        "import string\n",
        "\n",
        "from keras.models import load_model\n",
        "from Sastrawi.Stemmer.StemmerFactory import StemmerFactory\n",
        "from Sastrawi.StopWordRemover.StopWordRemoverFactory import StopWordRemoverFactory\n",
        "from tensorflow.keras.preprocessing.text import Tokenizer\n",
        "from tensorflow.keras.preprocessing.sequence import pad_sequences"
      ],
      "metadata": {
        "id": "WtiNjqjxf19T"
      },
      "execution_count": null,
      "outputs": []
    },
    {
      "cell_type": "markdown",
      "source": [
        "Preprocessing"
      ],
      "metadata": {
        "id": "ZDr0m6uvbA2U"
      }
    },
    {
      "cell_type": "code",
      "source": [
        "factory = StemmerFactory()\n",
        "sfactory = StopWordRemoverFactory()\n",
        "stemmer = factory.create_stemmer()\n",
        "stopword = sfactory.create_stop_word_remover()\n",
        "token = Tokenizer()"
      ],
      "metadata": {
        "id": "Xudnwn1vf42G"
      },
      "execution_count": null,
      "outputs": []
    },
    {
      "cell_type": "code",
      "source": [
        "def prepro(text):\n",
        "  prepro1 = text.lower()\n",
        "  prepro2 = re.sub(r\"\\d+\", \"\", prepro1)\n",
        "  prepro3 = prepro2.translate(str.maketrans(\"\",\"\",string.punctuation))\n",
        "  prepro4 = prepro3.strip()\n",
        "  stopping = stopword.remove(prepro4)\n",
        "  stemming = stemmer.stem(stopping)\n",
        "  return stemming"
      ],
      "metadata": {
        "id": "ixQcju2Ff5VS"
      },
      "execution_count": null,
      "outputs": []
    },
    {
      "cell_type": "markdown",
      "source": [
        "Load Model Terbaik Dari Ketiga Skenario Algoritma"
      ],
      "metadata": {
        "id": "z35Kg0-ObGMR"
      }
    },
    {
      "cell_type": "code",
      "source": [
        "# cnn = load_model('/content/CNN_28.h5')\n",
        "# lstm = load_model('/content/LSTM_11.h5')\n",
        "cnnlstm = load_model('/content/cnnlstm_35.h5')"
      ],
      "metadata": {
        "id": "mZOCAdxDgCat"
      },
      "execution_count": null,
      "outputs": []
    },
    {
      "cell_type": "code",
      "source": [
        "def get_encode(j):\n",
        "  j = token.texts_to_sequences(j)\n",
        "  j = pad_sequences(j, maxlen=122, padding=\"post\")\n",
        "  return j"
      ],
      "metadata": {
        "id": "xaYhw8BKgDKV"
      },
      "execution_count": null,
      "outputs": []
    },
    {
      "cell_type": "markdown",
      "source": [
        "Import data tokenisasi saat pelatihan"
      ],
      "metadata": {
        "id": "QEhsVMKnHsK4"
      }
    },
    {
      "cell_type": "code",
      "source": [
        "import pickle\n",
        "\n",
        "with open('tokenizer.pickle', 'rb') as handle:\n",
        "    token = pickle.load(handle)"
      ],
      "metadata": {
        "id": "xt6ssR4sl0Sr"
      },
      "execution_count": null,
      "outputs": []
    },
    {
      "cell_type": "markdown",
      "source": [
        "input ulasan"
      ],
      "metadata": {
        "id": "4KTGkyifH4ZV"
      }
    },
    {
      "cell_type": "code",
      "source": [
        "j = 'kolam renangnya luas dan bersih. kamar mandi harum. makanannya enak'\n",
        "j = prepro(j)\n",
        "print(j)"
      ],
      "metadata": {
        "colab": {
          "base_uri": "https://localhost:8080/"
        },
        "id": "dC5MobGmGWp4",
        "outputId": "51b42d22-2a4f-4fcb-b2ec-58a1f5d28ff5"
      },
      "execution_count": null,
      "outputs": [
        {
          "output_type": "stream",
          "name": "stdout",
          "text": [
            "kolam renang luas bersih kamar mandi harum makan enak\n"
          ]
        }
      ]
    },
    {
      "cell_type": "markdown",
      "source": [
        "hasil prediksi kelas ulasan"
      ],
      "metadata": {
        "id": "lV7Ur7KoIDXG"
      }
    },
    {
      "cell_type": "code",
      "source": [
        "k = ['kolam renang luas bersih kamar mandi harum makan enak']\n",
        "k = get_encode(k)\n",
        "# print(np.argmax(cnn.predict(k)))\n",
        "# print(np.argmax(lstm.predict(k)))\n",
        "print(np.argmax(cnnlstm.predict(k)))"
      ],
      "metadata": {
        "colab": {
          "base_uri": "https://localhost:8080/"
        },
        "id": "fY94_lJdgIXx",
        "outputId": "44cf553a-8c7b-4e9e-d6ec-6bed3b6e3a5e"
      },
      "execution_count": null,
      "outputs": [
        {
          "output_type": "stream",
          "name": "stdout",
          "text": [
            "1\n",
            "1\n",
            "1\n"
          ]
        }
      ]
    }
  ]
}